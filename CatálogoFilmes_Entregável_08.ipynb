{
  "nbformat": 4,
  "nbformat_minor": 0,
  "metadata": {
    "colab": {
      "provenance": []
    },
    "kernelspec": {
      "name": "python3",
      "display_name": "Python 3"
    },
    "language_info": {
      "name": "python"
    }
  },
  "cells": [
    {
      "cell_type": "markdown",
      "source": [
        "Entregável 08 - Catalogo filmes"
      ],
      "metadata": {
        "id": "fE3vtnyjAHnH"
      }
    },
    {
      "cell_type": "code",
      "source": [
        "#constante\n",
        "capacidade = 1000\n",
        "# Algoritmo para cadastrar filmes e notas\n",
        "\n",
        "#Strings\n",
        "\n",
        "#dicicionario\n",
        "filmes = []\n",
        "\n",
        "#Atalho para somar a média\n",
        "def media(filmes):\n",
        "  cnt = len(filmes)\n",
        "  if cnt == 0:\n",
        "    return 0\n",
        "  soma = 0\n",
        "  for filme in filmes:\n",
        "    soma += filme[\"nota\"]\n",
        "  return soma/cnt\n",
        "\n",
        "#duplicidade\n",
        "def duplicidade(novo, filmes):\n",
        "  for filme in filmes:\n",
        "    if novo == filme[\"nome\"]:\n",
        "      return True\n",
        "  return False\n",
        "\n",
        "def imprime_filmes(filmes):\n",
        "  for filme in filmes:\n",
        "    print(f\"O filme {filme['nome']} recebeu a nota {filme['nota']} da crítica!\")\n",
        "\n",
        "  for filme in filmes:\n",
        "    print(f\"O filme {filme['nome']} recebeu a nota {filme['nota']} da critica\")\n",
        "\n",
        "def pegarnota(filme):\n",
        "    return filme[\"nota\"]\n",
        "\n",
        "#lista dos 3 melhores filmes\n",
        "def top3(filmes):\n",
        "    print(\"\\n--- Top 3 Filmes ---\")\n",
        "    if len(filmes) == 0:\n",
        "        print(\"Nenhum filme cadastrado.\")\n",
        "        return\n",
        "\n",
        "    ranking = sorted(filmes, key=pegarnota, reverse=True)[:3]\n",
        "\n",
        "    limite = 3\n",
        "    if len(ranking) < 3:\n",
        "        limite = len(ranking)\n",
        "\n",
        "    posicao = 1\n",
        "    for i in range(limite):\n",
        "        filme = ranking[i]\n",
        "        print(str(posicao) + \". \" + filme[\"nome\"] + \" — Nota: \" + str(filme[\"nota\"]))\n",
        "        posicao += 1\n",
        "\n",
        "#operações\n",
        "while True:\n",
        "  nome = input(\"Digite o nome do filme ou Sair para parar o código:\")\n",
        "  if nome == \"Sair\":\n",
        "    break\n",
        "\n",
        "  #conferir se o filme não vai repetir\n",
        "  if duplicidade(nome, filmes):\n",
        "    print(\"O filme\",nome, \"já foi cadastrado!\")\n",
        "  else:\n",
        "    #o replace é para caso o usuário escreva a nota com vírgula\n",
        "    nota = float(input(\"Digite a nota do filme: \").replace(\",\" , \".\"))\n",
        "    filmes.append({\"nome\": nome, \"nota\":nota})\n",
        "#comando para limite de 1000\n",
        "if len(filmes) > capacidade:\n",
        "  print(\"Capacidade excedida!\")\n",
        "\n",
        "#Exibindo todas as informações e a média\n",
        "print(filmes)\n",
        "print(f\"A média das notas será: \", media(filmes))\n",
        "top3(filmes)\n",
        "\n",
        "\n",
        "\n",
        "\n",
        "\n",
        "\n",
        "\n",
        "\n"
      ],
      "metadata": {
        "id": "rKMoec7EAME3",
        "colab": {
          "base_uri": "https://localhost:8080/"
        },
        "outputId": "f2b38f1b-b1ae-482b-958e-c9bb3895e16d"
      },
      "execution_count": null,
      "outputs": [
        {
          "output_type": "stream",
          "name": "stdout",
          "text": [
            "Digite o nome do filme ou Sair para parar o código:Cruella\n",
            "Digite a nota do filme: 10\n",
            "Digite o nome do filme ou Sair para parar o código:Barbie\n",
            "Digite a nota do filme: 7\n",
            "Digite o nome do filme ou Sair para parar o código:I, robot\n",
            "Digite a nota do filme: 9\n",
            "Digite o nome do filme ou Sair para parar o código:Enrolados\n",
            "Digite a nota do filme: 9,8\n",
            "Digite o nome do filme ou Sair para parar o código:Operação Cupido\n",
            "Digite a nota do filme: 8\n",
            "Digite o nome do filme ou Sair para parar o código:Sair\n",
            "[{'nome': 'Cruella', 'nota': 10.0}, {'nome': 'Barbie', 'nota': 7.0}, {'nome': 'I, robot', 'nota': 9.0}, {'nome': 'Enrolados', 'nota': 9.8}, {'nome': 'Operação Cupido', 'nota': 8.0}]\n",
            "A média das notas será:  8.76\n",
            "\n",
            "--- Top 3 Filmes ---\n",
            "1. Cruella — Nota: 10.0\n",
            "2. Enrolados — Nota: 9.8\n",
            "3. I, robot — Nota: 9.0\n"
          ]
        }
      ]
    }
  ]
}