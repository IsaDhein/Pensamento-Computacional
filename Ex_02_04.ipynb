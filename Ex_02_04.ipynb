{
  "nbformat": 4,
  "nbformat_minor": 0,
  "metadata": {
    "colab": {
      "provenance": []
    },
    "kernelspec": {
      "name": "python3",
      "display_name": "Python 3"
    },
    "language_info": {
      "name": "python"
    }
  },
  "cells": [
    {
      "cell_type": "markdown",
      "source": [
        "# Lista de Exercícios"
      ],
      "metadata": {
        "id": "dcTkhZFQ8hUp"
      }
    },
    {
      "cell_type": "markdown",
      "source": [
        "### 1-Faça em Python um algoritmo que leia um número inteiro qualquer. O algoritmo deve calcular e escrever o quadrado, a raiz quadrada, e a divisão do quadrado pela raiz quadrada do número lido."
      ],
      "metadata": {
        "id": "68Y5qDV581Jg"
      }
    },
    {
      "cell_type": "code",
      "execution_count": null,
      "metadata": {
        "colab": {
          "base_uri": "https://localhost:8080/"
        },
        "id": "fywLKKnf77C2",
        "outputId": "e78b3955-3506-4404-daa2-419758a80dd8"
      },
      "outputs": [
        {
          "output_type": "stream",
          "name": "stdout",
          "text": [
            "Informe um numero inteiro qualquer:16\n",
            "O quadrado de 16 é 256 , a raiz quadrada é 4.0 e a divisao do quadrado pela raiz quadrada é 64.0\n"
          ]
        }
      ],
      "source": [
        "# Algoritmo de cálculo de quadrado, raiz quadrada e divisão de quadrado pela raiz quadrada\n",
        "\n",
        "# bibliotecas\n",
        "import math\n",
        "\n",
        "# vars\n",
        "n = 0\n",
        "quad = 0\n",
        "div_quad_raiz = 0.0\n",
        "\n",
        "# inicia a captura do inteiro\n",
        "n = int(input(\"Informe um numero inteiro qualquer:\"))\n",
        "# quadrado de n\n",
        "quad = n**2\n",
        "\n",
        "# raiz quadrada\n",
        "raiz = math.sqrt(n)\n",
        "\n",
        "# divisao do quadrado\n",
        "# Algoritmo de cálculo de quadrado, raiz quadrada e\n",
        "# divisão de quadrado pela raiz quadrada\n",
        "\n",
        "# bibliotecas\n",
        "import math\n",
        "\n",
        "# quadrado de n\n",
        "quad = n**2\n",
        "\n",
        "# raiz quadrada\n",
        "raiz = math.sqrt(n)\n",
        "\n",
        "# divisao do quadrado\n",
        "div_quad_raiz = quad/raiz\n",
        "\n",
        "print(\"O quadrado de\", n, \"é\", quad, \", a raiz quadrada é\", raiz, \"e a divisao do quadrado pela raiz quadrada é\", div_quad_raiz)\n",
        "\n"
      ]
    },
    {
      "cell_type": "markdown",
      "source": [
        "### 2- Faça em Python um algoritmo que calcule e escreva o preço final de um computador, sendo fornecido o\n",
        "preço de fábrica. O preço final do computador é calculado com base nos adicionais de: 30 % de imposto e\n",
        "10 % de revenda sobre o preço de fábrica."
      ],
      "metadata": {
        "id": "CClTm3U3IAPK"
      }
    },
    {
      "cell_type": "code",
      "source": [
        "# Algoritmo Preço final computador\n",
        "\n",
        "IMPOSTO =30\n",
        "REVENDA = 10\n",
        "\n",
        "# vars\n",
        "p_fab = float(input(\"Informe o preço de fábrica do computador\"))\n",
        "imp = p_fab*IMPOSTO/100\n",
        "rev = p_fab*REVENDA/100\n",
        "p_final = p_fab+imp+rev\n",
        "print(\"O preço final do computador é R$\", p_final)"
      ],
      "metadata": {
        "id": "whdEJTf4El3O",
        "colab": {
          "base_uri": "https://localhost:8080/"
        },
        "outputId": "be3710c8-f1c5-414a-adfb-96a6948118d0"
      },
      "execution_count": null,
      "outputs": [
        {
          "output_type": "stream",
          "name": "stdout",
          "text": [
            "Informe o preço de fábrica do computador16\n",
            "O preço final do computador é R$ 22.400000000000002\n"
          ]
        }
      ]
    },
    {
      "cell_type": "markdown",
      "source": [
        "3- Faça um algoritmo em Python que leia três números inteiros e calcule a sua média. Ao final, o algoritmo\n",
        "deve escrever os números lidos e o resultado da média."
      ],
      "metadata": {
        "id": "7-shxeAhIG96"
      }
    },
    {
      "cell_type": "code",
      "source": [
        "# Algoritmo numeros\n",
        "\n",
        "#vars\n",
        "a = int(input(\"Digite o primeiro numero:\" ))\n",
        "b = int(input(\"Digite o segundo numero:\"))\n",
        "c = int(input(\"Digite o terceiro numero:\"))\n",
        "\n",
        "media = (a+b+c)/3\n",
        "print(\"Os numeros informados sao:\",a,b,c,\"e a media é:\",media)"
      ],
      "metadata": {
        "id": "zatDbbcqIMP7",
        "colab": {
          "base_uri": "https://localhost:8080/"
        },
        "outputId": "e97675fe-de43-4d19-9178-0b6eea4d74bd"
      },
      "execution_count": null,
      "outputs": [
        {
          "output_type": "stream",
          "name": "stdout",
          "text": [
            "Digite o primeiro numero:1\n",
            "Digite o segundo numero:3\n",
            "Digite o terceiro numero:5\n",
            "Os numeros informados sao: 1 3 5 e a media é: 3.0\n"
          ]
        }
      ]
    },
    {
      "cell_type": "markdown",
      "source": [
        "4- Fazer um algoritmo em Python que calcule o número de litros de combustível gastos em uma viagem,\n",
        "sabendo-se que o carro faz 12 km com um litro. Deverão ser lidos o tempo gasto na viagem e a velocidade\n",
        "média."
      ],
      "metadata": {
        "id": "-XaGoqWcu8nT"
      }
    },
    {
      "cell_type": "code",
      "source": [
        "# Algoritmo combustivel\n",
        "\n",
        "#vars\n",
        "TE = float(input(\"Informe o tempo gasto na viagem:\"))\n",
        "VM = float(input(\"Informe a velocidade media gasta na viagem:\"))\n",
        "\n",
        "DST = TE*VM\n",
        "LT = DST/12\n",
        "print(\"Foram gastos\",LT,\"litros na viagem!\")"
      ],
      "metadata": {
        "colab": {
          "base_uri": "https://localhost:8080/"
        },
        "id": "hkkIJJiDvGge",
        "outputId": "014d89c9-d59e-40bb-f60c-58cfd7d29250"
      },
      "execution_count": null,
      "outputs": [
        {
          "output_type": "stream",
          "name": "stdout",
          "text": [
            "Informe o tempo gasto na viagem:6\n",
            "Informe a velocidade media gasta na viagem:120\n",
            "Foram gastos 60.0 litros na viagem!\n"
          ]
        }
      ]
    },
    {
      "cell_type": "markdown",
      "source": [
        "5- Faça em Python um algoritmo que leia dois números inteiros (x e y), e calcule o quociente e o resto da\n",
        "divisão de x por y e escreva os resultados."
      ],
      "metadata": {
        "id": "yRhsv8m90_79"
      }
    },
    {
      "cell_type": "code",
      "source": [
        "# Algoritmo inteiros\n",
        "\n",
        "#vars\n",
        "x = int(input(\"Informe um valor inteiro:\"))\n",
        "y = int(input(\"Informe um valor inteiro:\"))\n",
        "\n",
        "quo = x / y\n",
        "resto = x % y\n",
        "print(\"O quociente da divisao é\",quo)\n",
        "print(\"O resto da divisao é\",resto)"
      ],
      "metadata": {
        "id": "pr2ikvgB1Git",
        "colab": {
          "base_uri": "https://localhost:8080/"
        },
        "outputId": "29d96af4-8f00-4411-9947-91e6b60f764f"
      },
      "execution_count": null,
      "outputs": [
        {
          "output_type": "stream",
          "name": "stdout",
          "text": [
            "Informe um valor inteiro:30\n",
            "Informe um valor inteiro:20\n",
            "O quociente da divisao é 1.5\n",
            "O resto da divisao é 10\n"
          ]
        }
      ]
    },
    {
      "cell_type": "markdown",
      "source": [
        "6- Escreva em python um algoritmo que leia três números reais (a, b, c), e calcule a média aritmética. Após\n",
        "os cálculos, os resultados deverão ser escritos."
      ],
      "metadata": {
        "id": "b40c-FLf9AC4"
      }
    },
    {
      "cell_type": "code",
      "source": [
        "# Algoritmo media\n",
        "\n",
        "#vars\n",
        "a = float(input(\"Digite um numero real:\"))\n",
        "b = float(input(\"Digite um numero real:\"))\n",
        "c = float(input(\"Digite um numero real:\"))\n",
        "\n",
        "MA = (a+b+c)/3\n",
        "print(\"A media atitmetica é:\",MA)"
      ],
      "metadata": {
        "colab": {
          "base_uri": "https://localhost:8080/"
        },
        "id": "u3fBgMQP9FJH",
        "outputId": "0a018430-efad-4922-aa1a-0070be92bb02"
      },
      "execution_count": null,
      "outputs": [
        {
          "output_type": "stream",
          "name": "stdout",
          "text": [
            "Digite um numero real:4\n",
            "Digite um numero real:6\n",
            "Digite um numero real:7\n",
            "A media atitmetica é: 5.666666666666667\n"
          ]
        }
      ]
    },
    {
      "cell_type": "markdown",
      "source": [
        "7- Uma loja de equipamentos de informática resolveu incentivar os seus funcionários a venderem no mês\n",
        "março. Para cada produto vendido, a loja dará uma bonificação de 1%, sobre o salário do funcionário.\n",
        "Desta forma, o funcionário que vender 10 produtos, terá um acréscimo de 10% em seu salário. Faça um\n",
        "algoritmo em Python que leia o código, o nome e o salário fixo do funcionário, além do número de\n",
        "produtos vendidos por ele no mês, e calcule o salário final do funcionário. Por fim, o algoritmo deve\n",
        "escrever o código e o nome do funcionário, juntamente com o seu salário final."
      ],
      "metadata": {
        "id": "1EWmJBsV-SOq"
      }
    },
    {
      "cell_type": "code",
      "source": [
        "# Algoritmo funcionario\n",
        "\n",
        "#vars\n",
        "cod = input(\"Informe o codigo do funcionario:\")\n",
        "nome = input(\"Informe o nome do funcionario:\")\n",
        "salf = float(input(\"Informe o salario fixo do funcionario:\"))\n",
        "pv = int(input(\"Informe o numero de produtos vendidos pelo funcionario:\"))\n",
        "\n",
        "salf = salf+(salf*pv/100)\n",
        "print(\"O codigo de\",nome,\"é:\",cod)\n",
        "print(\"O salario final é de R$\",salf)"
      ],
      "metadata": {
        "colab": {
          "base_uri": "https://localhost:8080/"
        },
        "id": "r1rkzHnk-V1S",
        "outputId": "0b3376ff-03b7-4f23-ecb3-1306217623ee"
      },
      "execution_count": null,
      "outputs": [
        {
          "output_type": "stream",
          "name": "stdout",
          "text": [
            "Informe o codigo do funcionario:0102335\n",
            "Informe o nome do funcionario:Isabella\n",
            "Informe o salario fixo do funcionario:3000\n",
            "Informe o numero de produtos vendidos pelo funcionario:50\n",
            "O codigo de Isabella é: 0102335\n",
            "O salario final é de R$ 4500.0\n"
          ]
        }
      ]
    },
    {
      "cell_type": "markdown",
      "source": [
        "8-Construa um algoritmo em Python que calcule a quantidade de latas de tintas necessárias e o custo para\n",
        "pintar tanques cilíndricos de combustível, onde são fornecidos a altura e o raio deste cilindro."
      ],
      "metadata": {
        "id": "Oqugv89YDmJs"
      }
    },
    {
      "cell_type": "code",
      "source": [
        "# Algoritmo cilindro\n",
        "\n",
        "c_lata = 150\n",
        "pi = 3.14\n",
        "\n",
        "#vars\n",
        "altura = float(input(\"Informe a altura do cilindro:\"))\n",
        "raio = float(input(\"Informe o valor do raio:\"))\n",
        "\n",
        "a_base = float(pi*raio**2)\n",
        "a_lateral = 2*pi*raio*altura\n",
        "a_total = a_base+a_lateral\n",
        "QTDE = ((a_total/3)/5)\n",
        "custo = QTDE*c_lata\n",
        "print(\"A quantidade de latas necessarias é de:\",QTDE,\"latas e o custo é de\",custo,\"reais\")"
      ],
      "metadata": {
        "colab": {
          "base_uri": "https://localhost:8080/"
        },
        "id": "ZxPKHp9xBQei",
        "outputId": "39f37a67-6d92-483c-e97d-627ccdba50af"
      },
      "execution_count": null,
      "outputs": [
        {
          "output_type": "stream",
          "name": "stdout",
          "text": [
            "Informe a altura do cilindro:15\n",
            "Informe o valor do raio:5\n",
            "A quantidade de latas necessarias é de: 36.63333333333333 latas e o custo é de 5495.0 reais\n"
          ]
        }
      ]
    },
    {
      "cell_type": "markdown",
      "source": [
        "9-Elabore um algoritmo em Python para calcular e escrever o preço final de um computador, sendo\n",
        "fornecido o preço de fábrica. O preço final do computador é calculado com base nos adicionais 45 % de\n",
        "imposto e 28 % de revenda sobre o preço de fábrica."
      ],
      "metadata": {
        "id": "sHawGHxLDovQ"
      }
    },
    {
      "cell_type": "code",
      "source": [
        "# Algoritmo computador\n",
        "\n",
        "#vars\n",
        "pfab = float(input(\"Informe o preço de fabrica do computador:\"))\n",
        "\n",
        "rev = pfab*28/100\n",
        "imp = pfab*45/100\n",
        "pfinal = pfab+rev+imp\n",
        "print(\"O preço final do computador é de R$:\",pfinal)"
      ],
      "metadata": {
        "colab": {
          "base_uri": "https://localhost:8080/"
        },
        "id": "aeBVCW6aDxYQ",
        "outputId": "9eaf3a3d-e309-4f6f-a42a-f140cf554b96"
      },
      "execution_count": null,
      "outputs": [
        {
          "output_type": "stream",
          "name": "stdout",
          "text": [
            "Informe o preço de fabrica do computador:3000\n",
            "O preço final do computador é de R$: 5190.0\n"
          ]
        }
      ]
    },
    {
      "cell_type": "markdown",
      "source": [
        "10-Uma revendedora de carros usados paga aos seus funcionários vendedores, um salário fixo por mês, mais\n",
        "uma comissão para cada carro vendido. Escreva um algoritmo em Python que leia o número do vendedor,o seu salário fixo, o número de carros por ele vendidos, e o valor que recebe por carro vendido, e calcule o\n",
        "salário mensal do vendedor, escrevendo-o juntamente com o seu número de identificação."
      ],
      "metadata": {
        "id": "lrvz0YucKiyn"
      }
    },
    {
      "cell_type": "code",
      "source": [
        "# Algoritmo carro\n",
        "\n",
        "#vars\n",
        "numvendedor = input(\"Informe o numero de identificaçao do vendedor:\")\n",
        "salf = float(input(\"Informe o salario fixo do vendedor:\"))\n",
        "carrosv = int(input(\"Informe o numero de carros vendidos pelo vendedor:\"))\n",
        "valorcarro = float(input(\"Informe o valor recebido por cada carro vendido:\"))\n",
        "\n",
        "salt = salf + (carrosv * valorcarro)\n",
        "\n",
        "print(\"O numero do vendedor é:\",numvendedor)\n",
        "print(\"O salario mensal do vendedor é de R$\",salt)"
      ],
      "metadata": {
        "colab": {
          "base_uri": "https://localhost:8080/"
        },
        "id": "VfTcCZi8Kov1",
        "outputId": "df00250f-9d8e-43cb-89b9-82630415833f"
      },
      "execution_count": null,
      "outputs": [
        {
          "output_type": "stream",
          "name": "stdout",
          "text": [
            "Informe o numero de identificaçao do vendedor:10\n",
            "Informe o salario fixo do vendedor:2000\n",
            "Informe o numero de carros vendidos pelo vendedor:20\n",
            "Informe o valor recebido por cada carro vendido:10\n",
            "O numero do vendedor é: 10\n",
            "O salario mensal do vendedor é de R$ 2200.0\n"
          ]
        }
      ]
    },
    {
      "cell_type": "markdown",
      "source": [
        "11-Escrever um algoritmo em Python que leia os dados referentes ao funcionário, calcule e escreva o\n",
        "salário líquido do funcionário da empresa. Obs.: Além do salário líquido, escreva o número de\n",
        "identificação e o nome do funcionário."
      ],
      "metadata": {
        "id": "yglx09KMMtFJ"
      }
    },
    {
      "cell_type": "code",
      "source": [
        "# Algoritmo pagamento\n",
        "\n",
        "valor_hora_normal = 8.00\n",
        "valor_hora_extra = 9.50\n",
        "valor_dependente = 2.50\n",
        "percentual_inss = 0.05\n",
        "\n",
        "#vars\n",
        "id = input(\"Digite o numero de identificaçao do funcionario:\")\n",
        "nome = input(\"Informe o nome do funcionario:\")\n",
        "horas_normais = float(input(\"Informe o numero de horas normais trabalhadas:\"))\n",
        "horas_extras = float(input(\"Informe o numero de horas extras trabalhadas:\"))\n",
        "num_dependentes = int(input(\"Digite o numero de dependetes:\"))\n",
        "\n",
        "# Calculo salario bruto\n",
        "total_horas_normais = horas_normais * valor_hora_normal\n",
        "total_horas_extras = horas_extras * valor_hora_extra\n",
        "total_dependentes = num_dependentes * valor_dependente\n",
        "salario_bruto = total_horas_normais + total_horas_extras + total_dependentes\n",
        "\n",
        "# Calculo Desconto INSS\n",
        "desconto_inss = salario_bruto * percentual_inss\n",
        "\n",
        "# Calculo salario liquido\n",
        "salario_liquido = salario_bruto - percentual_inss\n",
        "\n",
        "print(\"O numero de identificaçao do funcionario é:\",id)\n",
        "print(\"O nome do funcionario é:\",nome)\n",
        "print(\"O salario liquido do funcionario é de R$\",salario_liquido)"
      ],
      "metadata": {
        "colab": {
          "base_uri": "https://localhost:8080/"
        },
        "id": "NNDu3LnsMyim",
        "outputId": "2d9ef9d5-636f-4ea0-e661-daa99e0a0881"
      },
      "execution_count": null,
      "outputs": [
        {
          "output_type": "stream",
          "name": "stdout",
          "text": [
            "Digite o numero de identificaçao do funcionario:2\n",
            "Informe o nome do funcionario:Isabella\n",
            "Informe o numero de horas normais trabalhadas:20\n",
            "Informe o numero de horas extras trabalhadas:10\n",
            "Digite o numero de dependetes:5\n",
            "O numero de identificaçao do funcionario é: 2\n",
            "O nome do funcionario é: Isabella\n",
            "O salario liquido do funcionario é de R$ 267.45\n"
          ]
        }
      ]
    }
  ]
}