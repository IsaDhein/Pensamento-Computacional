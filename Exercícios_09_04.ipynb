{
  "cells": [
    {
      "cell_type": "markdown",
      "metadata": {
        "id": "4gPhMs7qCjSP"
      },
      "source": [
        "Lista de Exercícios 09/04"
      ]
    },
    {
      "cell_type": "markdown",
      "metadata": {
        "id": "30SM0OELBu8X"
      },
      "source": [
        "1. Faça um algoritmo em Python que leia a nota de vários alunos de uma turma. Ao final, deve ser\n",
        "escrita a média geral da turma. A leitura das médias somente encerra quando uma nota negativa\n",
        "for digitada."
      ]
    },
    {
      "cell_type": "code",
      "execution_count": null,
      "metadata": {
        "collapsed": true,
        "id": "0O9Yec3YDECo"
      },
      "outputs": [],
      "source": [
        "# Algoritmo media turma\n",
        "\n",
        "notas = 0\n",
        "alunos = 0\n",
        "soma = 0\n",
        "\n",
        "while(notas >= 0):\n",
        "  notas = int(input(\"Digite a nota do aluno:\"))\n",
        "  alunos += 1\n",
        "  soma = soma + notas\n",
        "  media = soma / alunos\n",
        "  print(\"A média geral da turma é:\", media)"
      ]
    },
    {
      "cell_type": "markdown",
      "metadata": {
        "id": "N68e5HY1GFBV"
      },
      "source": [
        "2. Faça um programa em Python para repetir a leitura de um número enquanto o valor fornecido for\n",
        "diferente de 0. Para cada número fornecido, escrever se ele é NEGATIVO ou POSITIVO. Quando\n",
        "o número 0 for fornecido o algoritmo deve encerrar informando o usuário."
      ]
    },
    {
      "cell_type": "code",
      "execution_count": null,
      "metadata": {
        "colab": {
          "base_uri": "https://localhost:8080/"
        },
        "id": "P9J8XTTVGLd1",
        "outputId": "b44e0832-ddc4-4ff1-cd3e-1532333b9d49"
      },
      "outputs": [
        {
          "name": "stdout",
          "output_type": "stream",
          "text": [
            "Digite um número:5\n",
            "Número positivo!\n",
            "Digite um número:-6\n",
            "Número negativo!\n",
            "Digite um número:0\n",
            "Programa encerrado!\n"
          ]
        }
      ],
      "source": [
        "# Algoritmo negativo ou positivo\n",
        "\n",
        "num = 1\n",
        "\n",
        "while(num != 0):\n",
        "  num = float(input(\"Digite um número:\"))\n",
        "  if(num > 0):\n",
        "    print(\"Número positivo!\")\n",
        "  elif(num < 0):\n",
        "    print(\"Número negativo!\")\n",
        "print(\"Programa encerrado!\")"
      ]
    },
    {
      "cell_type": "markdown",
      "metadata": {
        "id": "nKnV9b-6ICj7"
      },
      "source": [
        "3. Faça um programa em Python para ler uma quantidade indeterminada de valores inteiros. Para\n",
        "cada valor fornecido apresentar uma mensagem que indique se o valor fornecido é PAR ou\n",
        "ÍMPAR. O programa será encerrado imediatamente após a leitura de um valor NULO (zero) ou\n",
        "NEGATIVO."
      ]
    },
    {
      "cell_type": "code",
      "execution_count": null,
      "metadata": {
        "colab": {
          "base_uri": "https://localhost:8080/"
        },
        "id": "KdXgT3o2IFDK",
        "outputId": "924bd12f-ef89-42e9-fb21-03eba24ecb8d"
      },
      "outputs": [
        {
          "name": "stdout",
          "output_type": "stream",
          "text": [
            "Informe um valor inteiro ou valor zero ou negativo para encerrar o programa:-3\n",
            "Programa encerrado!\n"
          ]
        }
      ],
      "source": [
        "# Algoritmo par ou ímpar\n",
        "\n",
        "x = 1\n",
        "\n",
        "while True:\n",
        "  x = float(input(\"Informe um valor inteiro ou valor zero ou negativo para encerrar o programa:\"))\n",
        "  if x <= 0:\n",
        "    print(\"Programa encerrado!\")\n",
        "    break #encerra o código\n",
        "  if(x % 2 == 0):\n",
        "    print(\"Número par!\")\n",
        "  else:\n",
        "    print(\"Número ímpar!\")\n",
        "\n"
      ]
    },
    {
      "cell_type": "markdown",
      "metadata": {
        "id": "q_DaZleQK0j1"
      },
      "source": [
        "4. Sabe-se que não existe divisão por zero, para isso faça um programa que leia dois valores inteiros\n",
        "e escreva o resultado da divisão do primeiro pelo segundo. Se o segundo valor informado for\n",
        "ZERO, deve ser impressa uma mensagem de VALOR INVÁLIDO e uma nova leitura do segundo\n",
        "valor deve ser realizada. Ao final do programa deve ser impressa a seguinte mensagem: VOCÊ\n",
        "DESEJA OUTRO CÁLCULO (S/N). Se a resposta for S o programa deverá retornar ao começo,\n",
        "caso contrário deverá encerrar."
      ]
    },
    {
      "cell_type": "code",
      "execution_count": null,
      "metadata": {
        "colab": {
          "base_uri": "https://localhost:8080/"
        },
        "id": "gMUvW6-VK7Is",
        "outputId": "05ff8a82-2db4-4717-8884-a2999c87367a"
      },
      "outputs": [
        {
          "name": "stdout",
          "output_type": "stream",
          "text": [
            "Digite um número inteiro:5\n",
            "Digite outro número inteiro:6\n",
            "O resultado da divisão é: 0.8333333333333334\n",
            "Você deseja outro cálculo (S/N)?S\n",
            "Digite um número inteiro:8\n",
            "Digite outro número inteiro:0\n",
            "Valor inválido!\n",
            "Digite outro número inteiro:5\n",
            "O resultado da divisão é: 1.6\n",
            "Você deseja outro cálculo (S/N)?4\n",
            "Programa encerrado!\n"
          ]
        }
      ],
      "source": [
        "# Algoritmo divisão por zero\n",
        "\n",
        "while True:\n",
        "  #Leitura do primero número\n",
        "\n",
        "  num1 = int(input(\"Digite um número inteiro:\"))\n",
        "  #Leitura do segundo número\n",
        "\n",
        "  while True:\n",
        "    num2 = int(input(\"Digite outro número inteiro:\"))\n",
        "    if(num2 == 0):\n",
        "      print(\"Valor inválido!\")\n",
        "    else:\n",
        "      break\n",
        "   #divisão dos dois números\n",
        "\n",
        "  r = num1 / num2\n",
        "  print(\"O resultado da divisão é:\", r)\n",
        "   #mensagem que pergunta se o usuário deseja outro cálculo\n",
        "\n",
        "  pergunta = (input(\"Você deseja outro cálculo (S/N)?\"))\n",
        "  if pergunta != 'S':\n",
        "    print(\"Programa encerrado!\")\n",
        "    break"
      ]
    },
    {
      "cell_type": "markdown",
      "metadata": {
        "id": "yarC2IM8ozrm"
      },
      "source": [
        "5. Faça um programa em Python que verifique a validade de uma senha fornecida pelo usuário. A\n",
        "senha válida é o número 1234.\n",
        "OBS: Se a senha informada pelo usuário for inválida, a mensagem \"ACESSO NEGADO\" deve\n",
        "ser impressa e repetida a solicitação de uma nova senha até que ela seja válida. Caso\n",
        "contrário deve ser impressa a mensagem \"ACESSO PERMITIDO\" junto com um número\n",
        "que representa quantas vezes a senha foi informada."
      ]
    },
    {
      "cell_type": "code",
      "execution_count": null,
      "metadata": {
        "colab": {
          "base_uri": "https://localhost:8080/"
        },
        "id": "5-znk7Aeo6Nb",
        "outputId": "3c6a696a-fcd7-478d-a3a8-1b62b3ede7cc"
      },
      "outputs": [
        {
          "name": "stdout",
          "output_type": "stream",
          "text": [
            "Digite a sua senha:5555\n",
            "Acesso negado!\n",
            "Digite a sua senha:6789\n",
            "Acesso negado!\n",
            "Digite a sua senha:0606\n",
            "Acesso negado!\n",
            "Digite a sua senha:1234\n",
            "Acesso permitido!\n",
            "Número de tentativas: 4\n"
          ]
        }
      ],
      "source": [
        "# Algoritmo senha\n",
        "\n",
        "senha_correta = '1234'\n",
        "cont = 0\n",
        "\n",
        "while True:\n",
        "  senha = (input(\"Digite a sua senha:\"))\n",
        "  cont = cont + 1\n",
        "\n",
        "  if senha == senha_correta:\n",
        "\n",
        "    print(\"Acesso permitido!\\nNúmero de tentativas:\", cont)\n",
        "    break\n",
        "  else:\n",
        "    print(\"Acesso negado!\")\n"
      ]
    },
    {
      "cell_type": "markdown",
      "metadata": {
        "id": "sZm0m91ptrph"
      },
      "source": [
        "6. Faça um programa em Python que verifique a validade de uma senha fornecida pelo usuário. A\n",
        "senha válida é o número 1234. Se a senha informada pelo usuário for válida a mensagem\n",
        "\"ACESSO PERMITIDO\" deve ser informada. O usuário não terá acesso ao sistema se errar a\n",
        "senha três vezes, neste caso a mensagem \"ACESSO NEGADO\" deve ser informada e a cada vez\n",
        "que o usuário errar a senha, dentro do limite, a mensagem informada será \"SENHA ERRADA,\n",
        "TENTATIVA X DE 3\", sendo o X o número da tentativa."
      ]
    },
    {
      "cell_type": "code",
      "execution_count": null,
      "metadata": {
        "colab": {
          "base_uri": "https://localhost:8080/"
        },
        "id": "mPe4V5Iyt1bi",
        "outputId": "d3d2562d-8456-4ebb-ec57-409267db2f72"
      },
      "outputs": [
        {
          "name": "stdout",
          "output_type": "stream",
          "text": [
            "Digite a senha:7777\n",
            "Senha errada, tentativa 1 de 3\n",
            "Digite a senha:0606\n",
            "Senha errada, tentativa 2 de 3\n",
            "Digite a senha:1234\n",
            "Acesso permitido!\n"
          ]
        }
      ],
      "source": [
        "#Algoritmo outra senha\n",
        "\n",
        "senha_certa = '1234'\n",
        "tentativas = 0\n",
        "limite_tentativas = 3\n",
        "\n",
        "while tentativas < limite_tentativas:\n",
        "  senha = input(\"Digite a senha:\")\n",
        "  tentativas += 1\n",
        "\n",
        "  if senha == senha_certa:\n",
        "     print(\"Acesso permitido!\")\n",
        "     break\n",
        "  else:\n",
        "    if tentativas < limite_tentativas:\n",
        "      print(f\"Senha errada, tentativa {tentativas} de {limite_tentativas}\")\n",
        "    else:\n",
        "       print(\"Acesso negado!\")\n"
      ]
    }
  ],
  "metadata": {
    "colab": {
      "provenance": []
    },
    "kernelspec": {
      "display_name": "Python 3",
      "name": "python3"
    },
    "language_info": {
      "name": "python"
    }
  },
  "nbformat": 4,
  "nbformat_minor": 0
}
