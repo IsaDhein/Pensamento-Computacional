{
  "nbformat": 4,
  "nbformat_minor": 0,
  "metadata": {
    "colab": {
      "provenance": []
    },
    "kernelspec": {
      "name": "python3",
      "display_name": "Python 3"
    },
    "language_info": {
      "name": "python"
    }
  },
  "cells": [
    {
      "cell_type": "markdown",
      "source": [
        "Lista de exercícios 07/04"
      ],
      "metadata": {
        "id": "6dU6cGuPtd6H"
      }
    },
    {
      "cell_type": "markdown",
      "source": [
        "1 - Faça um algoritmo em Python para ler dois valores numéricos e apresentar a diferença do maior\n",
        "pelo menor."
      ],
      "metadata": {
        "id": "jA35DIqLtiGX"
      }
    },
    {
      "cell_type": "code",
      "source": [
        "# Algoritmo Diferença\n",
        "\n",
        "# vars\n",
        "x = float(input(\"Digite o primeiro número:\"))\n",
        "y = float(input(\"Digite o segundo número:\"))\n",
        "\n",
        "\n",
        "if (x > y):\n",
        "  diferenca = (x - y)\n",
        "  print(f\"O numero maior é: {X} e a sua diferença é: {diferenca}\")\n",
        "elif (y > x):\n",
        "  diferenca = (y - x)\n",
        "  print(f\"O numero maior é: {y} e sua dferença é: {diferenca}\")\n",
        "else:\n",
        "  print(\"Os dois números são iguais\")\n"
      ],
      "metadata": {
        "colab": {
          "base_uri": "https://localhost:8080/"
        },
        "id": "cWfctNpltjWn",
        "outputId": "8ffec0a3-63cc-4c63-8d7d-540074c1885f"
      },
      "execution_count": null,
      "outputs": [
        {
          "output_type": "stream",
          "name": "stdout",
          "text": [
            "Digite o primeiro número:2\n",
            "Digite o segundo número:2\n",
            "Os dois números são iguais\n"
          ]
        }
      ]
    },
    {
      "cell_type": "markdown",
      "source": [
        "2 - Faça um algoritmo em Python para ler dois números. Se os números forem iguais escrever a\n",
        "mensagem: \"NÚMEROS IGUAIS\" e encerrar a execução; caso contrário, escrever o de maior\n",
        "valor."
      ],
      "metadata": {
        "id": "Iu__V9nXxlo_"
      }
    },
    {
      "cell_type": "code",
      "source": [
        "# Algoritmo numeros\n",
        "\n",
        "#vars\n",
        "num1 = float(input(\"Digite um número:\"))\n",
        "num2 = float(input(\"Digite um número:\"))\n",
        "\n",
        "if (num1 == num2):\n",
        "  print(\"Números iguais\")\n",
        "elif (num1 > num2):\n",
        "  print(\"O maior número é:\", num1)\n",
        "else:\n",
        "  print(\"O maior número é:\", num2)\n"
      ],
      "metadata": {
        "colab": {
          "base_uri": "https://localhost:8080/"
        },
        "id": "WzGR0zeuxqxv",
        "outputId": "a1447433-6eed-4ad0-9af8-ac1388e90edd"
      },
      "execution_count": null,
      "outputs": [
        {
          "output_type": "stream",
          "name": "stdout",
          "text": [
            "Digite um número:6\n",
            "Digite um número:3\n",
            "O maior número é: 6.0\n"
          ]
        }
      ]
    },
    {
      "cell_type": "markdown",
      "source": [
        "3 - Faça um algoritmo em Python para ler dois valores: NUM1 e NUM2, e se NUM1 for maior que\n",
        "NUM2 executa a soma de NUM1 e NUM2; caso contrário, executa uma subtração."
      ],
      "metadata": {
        "id": "7vb8OHK9zsO3"
      }
    },
    {
      "cell_type": "code",
      "source": [
        "# Algoritmo soma\n",
        "\n",
        "# vars\n",
        "num1 = float(input(\"Digite um número:\"))\n",
        "num2 = float(input(\"Digite outro número:\"))\n",
        "\n",
        "if(num1 > num2):\n",
        "  soma = num1 + num2\n",
        "  print(\"A soma dos dois números é:\", soma)\n",
        "else:\n",
        "  sub = num1 - num2\n",
        "  print(\"A subtração dos dois números´é:\", sub)"
      ],
      "metadata": {
        "colab": {
          "base_uri": "https://localhost:8080/"
        },
        "id": "4dDcSoH8zxxf",
        "outputId": "0b8792d3-3a91-4dcd-cdba-98df3a594567"
      },
      "execution_count": null,
      "outputs": [
        {
          "output_type": "stream",
          "name": "stdout",
          "text": [
            "Digite um número:6\n",
            "Digite outro número:4\n",
            "A soma dos dois números é: 10.0\n"
          ]
        }
      ]
    },
    {
      "cell_type": "markdown",
      "source": [
        "4 - O hotel Pica-Pau cobra R$ 150,00 a diária e mais uma taxa de serviços. A taxa de serviços é de:\n",
        "\n",
        "● R$ 15 por dia, se número de diárias <15\n",
        "● R$ 10 por dia, se número de diárias =15\n",
        "● R$ 5 por dia, se número de diárias >15\n",
        "\n",
        "Faça um algoritmo em Python que lê o número de diárias e calcula o total a ser pago pelo cliente."
      ],
      "metadata": {
        "id": "z9FVd2H-1Ovr"
      }
    },
    {
      "cell_type": "code",
      "source": [
        "# Algoritmo hotel\n",
        "\n",
        "# vars\n",
        "diarias = int(input(\"Escreva o número de diárias:\"))\n",
        "\n",
        "if (diarias < 15):\n",
        "  final = diarias * (150 + 15)\n",
        "  print(\"O valor final é R$:\", final)\n",
        "elif (diarias == 15):\n",
        "  final = diarias * (150 + 10)\n",
        "  print(\"O valor final é R$:\", final)\n",
        "else:\n",
        "  final = diarias * (150 + 5)\n",
        "  print(\"O valor final é R$:\", final)\n",
        "\n",
        "\n"
      ],
      "metadata": {
        "colab": {
          "base_uri": "https://localhost:8080/"
        },
        "id": "DdamIMzB1Wv7",
        "outputId": "8d7c8326-56cd-467c-bcc4-5d068f3a2c83"
      },
      "execution_count": null,
      "outputs": [
        {
          "output_type": "stream",
          "name": "stdout",
          "text": [
            "Escreva o número de diárias:5\n",
            "O valor final é R$: 825\n"
          ]
        }
      ]
    },
    {
      "cell_type": "code",
      "source": [
        "5 - O programa deve escrever as notas, a média de aproveitamento, o conceito\n",
        "correspondente e a mensagem: \"APROVADO\" se o conceito for A, B, ou C e\n",
        "\"REPROVADO\" se conceito for D ou E."
      ],
      "metadata": {
        "id": "SnFMhLPc4Nog"
      },
      "execution_count": null,
      "outputs": []
    },
    {
      "cell_type": "code",
      "source": [
        "# Algoritmo provas\n",
        "\n",
        "#vars\n",
        "n1 = float(input(\"Escreva a primeira nota:\"))\n",
        "n2 = float(input(\"Escreva a segunda nota:\"))\n",
        "n3 = float(input(\"Escreva a terceira nota:\"))\n",
        "\n",
        "media = (n1 + n2 + n3)/3\n",
        "\n",
        "if(media >= 9.0):\n",
        "  conceito = \"A\"\n",
        "elif(media >= 7.5 and media < 9.0):\n",
        "  conceito = \"B\"\n",
        "elif(media >= 6.0 and media < 7.5):\n",
        "  conceito = \"C\"\n",
        "elif(media >= 4.0 and media < 6.0):\n",
        "  conceito = \"D\"\n",
        "elif(media < 4.0):\n",
        "  conceito = \"E\"\n",
        "\n",
        "if conceito in [\"A\", \"B\", \"C\"]:\n",
        "  status = \"aprovado!\"\n",
        "else:\n",
        "  status = \"reprovado!\"\n",
        "\n",
        "print(\"A primeira nota do aluno é\", n1)\n",
        "print(\"A segunda nota do aluno é:\", n2)\n",
        "print(\"A terceira nota do aluno é:\",n3)\n",
        "print(\"A média de aproveitamento do aluno é:\", media)\n",
        "print(\"O conceito do aluno é\", conceito, \"e o aluno está\", status)\n",
        "if conceito in [\"A\", \"B\", \"C\"]:\n",
        "  status = \"aprovado!\"\n",
        "else:\n",
        "  status = \"reprovado!\"\n"
      ],
      "metadata": {
        "id": "Ozh2mczj4U0J",
        "colab": {
          "base_uri": "https://localhost:8080/"
        },
        "outputId": "fee731d1-2529-48f5-c5a6-87d7e5537473"
      },
      "execution_count": null,
      "outputs": [
        {
          "output_type": "stream",
          "name": "stdout",
          "text": [
            "Escreva a primeira nota:7\n",
            "Escreva a segunda nota:8\n",
            "Escreva a terceira nota:9\n",
            "A primeira nota do aluno é 7.0\n",
            "A segunda nota do aluno é: 8.0\n",
            "A terceira nota do aluno é: 9.0\n",
            "A média de aproveitamento do aluno é: 8.0\n",
            "O conceito do aluno é B e o aluno está aprovado!\n"
          ]
        }
      ]
    },
    {
      "cell_type": "markdown",
      "source": [
        "6 - Faça um programa em Python que leia a altura e o sexo de uma pessoa, calcule seu\n",
        "peso ideal, utilizando as seguintes fórmulas:\n",
        "● homens : (72,7*altura) –58\n",
        "● mulheres : (62,1*altura) – 44,7"
      ],
      "metadata": {
        "id": "EIVS0fqT1xs9"
      }
    },
    {
      "cell_type": "code",
      "source": [
        "# Algoritmo pessoa\n",
        "\n",
        "#vars\n",
        "altura = float(input(\"Informe a altura em metros da pessoa \"))\n",
        "sexo = (input(\"Informe o sexo(M ou F) da pessoa \"))\n",
        "\n",
        "if(sexo == 'M'):\n",
        "  peso = ((72.7*altura) - 58)\n",
        "else:\n",
        "  peso = ((62.1*altura) - 44.7)\n",
        "\n",
        "print(\"Seu peso ideal é:\", peso)\n",
        "\n"
      ],
      "metadata": {
        "colab": {
          "base_uri": "https://localhost:8080/"
        },
        "id": "4vNMpdh51323",
        "outputId": "570d4b3f-f64d-4535-e296-6f33110d3f9a"
      },
      "execution_count": null,
      "outputs": [
        {
          "output_type": "stream",
          "name": "stdout",
          "text": [
            "Informe a altura em metros da pessoa 1.64\n",
            "Informe o sexo(M ou F) da pessoa F\n",
            "Seu peso ideal é: 57.14399999999999\n"
          ]
        }
      ]
    },
    {
      "cell_type": "markdown",
      "source": [
        "7- Escrever um programa em Python que lê os seguintes dados de um funcionário: o\n",
        "número de horas trabalhadas e o valor que recebe por hora. Calcular e escrever, o salário\n",
        "bruto (SB) e o valor de desconto do Imposto de Renda (IR) como segue:"
      ],
      "metadata": {
        "id": "UJyfuk644pSf"
      }
    },
    {
      "cell_type": "code",
      "source": [
        "# Algoritmo funcionário\n",
        "\n",
        "#vars\n",
        "horas = float(input(\"Informe as horas trabalhadas pelo funcionário:\"))\n",
        "valorhora = float(input(\"Informe o valor recebido por hora:\"))\n",
        "\n",
        "sb = horas * valorhora\n",
        "if(sb > 3.500):\n",
        "  imp = sb * 0.15\n",
        "elif(sb > 1.500 and sb <=3.500):\n",
        "  imp = sb * 0.08\n",
        "else:\n",
        "  imp = 0\n",
        "\n",
        "print(\"O salário bruto do funcionário é:\",sb,\"e o valor do desconto do imposto de renda é de:\" ,imp)"
      ],
      "metadata": {
        "colab": {
          "base_uri": "https://localhost:8080/"
        },
        "id": "EmaoJoGc4aks",
        "outputId": "92fad3ec-afe6-4cc0-d8e0-4c27796b7fa7"
      },
      "execution_count": null,
      "outputs": [
        {
          "output_type": "stream",
          "name": "stdout",
          "text": [
            "Informe as horas trabalhadas pelo funcionário:10\n",
            "Informe o valor recebido por hora:30\n",
            "O salário bruto do funcionário é: 300.0 e o valor do desconto do imposto de renda é de R$: 45.0\n"
          ]
        }
      ]
    }
  ]
}